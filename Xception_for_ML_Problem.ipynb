{
  "nbformat": 4,
  "nbformat_minor": 0,
  "metadata": {
    "colab": {
      "provenance": [],
      "gpuType": "T4"
    },
    "kernelspec": {
      "name": "python3",
      "display_name": "Python 3"
    },
    "language_info": {
      "name": "python"
    },
    "accelerator": "GPU"
  },
  "cells": [
    {
      "cell_type": "markdown",
      "source": [
        "# Descrizione del Problema di Classificazione\n",
        "\n",
        "Il problema riguarda l'integrazione dell'Intelligenza Artificiale nelle ferrovie, in particolare nei sistemi di guida autonoma. Le ferrovie sono considerate un mezzo di trasporto ecologico a causa della loro efficienza energetica e delle basse emissioni di carbonio rispetto ai trasporti su strada e aereo. Tuttavia, l'AI impiegnata in quest'ambito deve affrontare sfide legate alle condizioni meteorologiche e di illuminazione variabili, che possono compromettere la capacità dei modelli di riconoscere e reagire con precisione a diverse situazioni.\n",
        "\n",
        "L'obiettivo del contest è sviluppare un modello in grado di identificare accuratamente cinque diverse condizioni meteorologiche e di illuminazione: Bright Right, Darkness, Rainy, Sun Flare (Interferenze dirette da luce solare) e Shadows mediante l'Accuracy come metrica di valutazione. Inoltre, è presente una categoria 'Clean' per le condizioni normali. La finalità è migliorare l'affidabilità e la sicurezza delle applicazioni di intelligenza artificiale nei sistemi ferroviari autonomi.\n",
        "\n"
      ],
      "metadata": {
        "id": "eKbzmDDv5BzV"
      }
    },
    {
      "cell_type": "markdown",
      "source": [
        "# **Import Dataset da Kaggle**"
      ],
      "metadata": {
        "id": "1gGaeUpGQbqL"
      }
    },
    {
      "cell_type": "code",
      "source": [
        "! pip install -q kaggle\n",
        "from google.colab import files\n",
        "files.upload()"
      ],
      "metadata": {
        "colab": {
          "base_uri": "https://localhost:8080/",
          "height": 90
        },
        "id": "ym2uemctQghk",
        "outputId": "bdea908d-ba4a-404a-bb6b-a704187210ea"
      },
      "execution_count": null,
      "outputs": [
        {
          "output_type": "display_data",
          "data": {
            "text/plain": [
              "<IPython.core.display.HTML object>"
            ],
            "text/html": [
              "\n",
              "     <input type=\"file\" id=\"files-035deb7b-f5e9-4e0c-a2a3-26d6ae709a38\" name=\"files[]\" multiple disabled\n",
              "        style=\"border:none\" />\n",
              "     <output id=\"result-035deb7b-f5e9-4e0c-a2a3-26d6ae709a38\">\n",
              "      Upload widget is only available when the cell has been executed in the\n",
              "      current browser session. Please rerun this cell to enable.\n",
              "      </output>\n",
              "      <script>// Copyright 2017 Google LLC\n",
              "//\n",
              "// Licensed under the Apache License, Version 2.0 (the \"License\");\n",
              "// you may not use this file except in compliance with the License.\n",
              "// You may obtain a copy of the License at\n",
              "//\n",
              "//      http://www.apache.org/licenses/LICENSE-2.0\n",
              "//\n",
              "// Unless required by applicable law or agreed to in writing, software\n",
              "// distributed under the License is distributed on an \"AS IS\" BASIS,\n",
              "// WITHOUT WARRANTIES OR CONDITIONS OF ANY KIND, either express or implied.\n",
              "// See the License for the specific language governing permissions and\n",
              "// limitations under the License.\n",
              "\n",
              "/**\n",
              " * @fileoverview Helpers for google.colab Python module.\n",
              " */\n",
              "(function(scope) {\n",
              "function span(text, styleAttributes = {}) {\n",
              "  const element = document.createElement('span');\n",
              "  element.textContent = text;\n",
              "  for (const key of Object.keys(styleAttributes)) {\n",
              "    element.style[key] = styleAttributes[key];\n",
              "  }\n",
              "  return element;\n",
              "}\n",
              "\n",
              "// Max number of bytes which will be uploaded at a time.\n",
              "const MAX_PAYLOAD_SIZE = 100 * 1024;\n",
              "\n",
              "function _uploadFiles(inputId, outputId) {\n",
              "  const steps = uploadFilesStep(inputId, outputId);\n",
              "  const outputElement = document.getElementById(outputId);\n",
              "  // Cache steps on the outputElement to make it available for the next call\n",
              "  // to uploadFilesContinue from Python.\n",
              "  outputElement.steps = steps;\n",
              "\n",
              "  return _uploadFilesContinue(outputId);\n",
              "}\n",
              "\n",
              "// This is roughly an async generator (not supported in the browser yet),\n",
              "// where there are multiple asynchronous steps and the Python side is going\n",
              "// to poll for completion of each step.\n",
              "// This uses a Promise to block the python side on completion of each step,\n",
              "// then passes the result of the previous step as the input to the next step.\n",
              "function _uploadFilesContinue(outputId) {\n",
              "  const outputElement = document.getElementById(outputId);\n",
              "  const steps = outputElement.steps;\n",
              "\n",
              "  const next = steps.next(outputElement.lastPromiseValue);\n",
              "  return Promise.resolve(next.value.promise).then((value) => {\n",
              "    // Cache the last promise value to make it available to the next\n",
              "    // step of the generator.\n",
              "    outputElement.lastPromiseValue = value;\n",
              "    return next.value.response;\n",
              "  });\n",
              "}\n",
              "\n",
              "/**\n",
              " * Generator function which is called between each async step of the upload\n",
              " * process.\n",
              " * @param {string} inputId Element ID of the input file picker element.\n",
              " * @param {string} outputId Element ID of the output display.\n",
              " * @return {!Iterable<!Object>} Iterable of next steps.\n",
              " */\n",
              "function* uploadFilesStep(inputId, outputId) {\n",
              "  const inputElement = document.getElementById(inputId);\n",
              "  inputElement.disabled = false;\n",
              "\n",
              "  const outputElement = document.getElementById(outputId);\n",
              "  outputElement.innerHTML = '';\n",
              "\n",
              "  const pickedPromise = new Promise((resolve) => {\n",
              "    inputElement.addEventListener('change', (e) => {\n",
              "      resolve(e.target.files);\n",
              "    });\n",
              "  });\n",
              "\n",
              "  const cancel = document.createElement('button');\n",
              "  inputElement.parentElement.appendChild(cancel);\n",
              "  cancel.textContent = 'Cancel upload';\n",
              "  const cancelPromise = new Promise((resolve) => {\n",
              "    cancel.onclick = () => {\n",
              "      resolve(null);\n",
              "    };\n",
              "  });\n",
              "\n",
              "  // Wait for the user to pick the files.\n",
              "  const files = yield {\n",
              "    promise: Promise.race([pickedPromise, cancelPromise]),\n",
              "    response: {\n",
              "      action: 'starting',\n",
              "    }\n",
              "  };\n",
              "\n",
              "  cancel.remove();\n",
              "\n",
              "  // Disable the input element since further picks are not allowed.\n",
              "  inputElement.disabled = true;\n",
              "\n",
              "  if (!files) {\n",
              "    return {\n",
              "      response: {\n",
              "        action: 'complete',\n",
              "      }\n",
              "    };\n",
              "  }\n",
              "\n",
              "  for (const file of files) {\n",
              "    const li = document.createElement('li');\n",
              "    li.append(span(file.name, {fontWeight: 'bold'}));\n",
              "    li.append(span(\n",
              "        `(${file.type || 'n/a'}) - ${file.size} bytes, ` +\n",
              "        `last modified: ${\n",
              "            file.lastModifiedDate ? file.lastModifiedDate.toLocaleDateString() :\n",
              "                                    'n/a'} - `));\n",
              "    const percent = span('0% done');\n",
              "    li.appendChild(percent);\n",
              "\n",
              "    outputElement.appendChild(li);\n",
              "\n",
              "    const fileDataPromise = new Promise((resolve) => {\n",
              "      const reader = new FileReader();\n",
              "      reader.onload = (e) => {\n",
              "        resolve(e.target.result);\n",
              "      };\n",
              "      reader.readAsArrayBuffer(file);\n",
              "    });\n",
              "    // Wait for the data to be ready.\n",
              "    let fileData = yield {\n",
              "      promise: fileDataPromise,\n",
              "      response: {\n",
              "        action: 'continue',\n",
              "      }\n",
              "    };\n",
              "\n",
              "    // Use a chunked sending to avoid message size limits. See b/62115660.\n",
              "    let position = 0;\n",
              "    do {\n",
              "      const length = Math.min(fileData.byteLength - position, MAX_PAYLOAD_SIZE);\n",
              "      const chunk = new Uint8Array(fileData, position, length);\n",
              "      position += length;\n",
              "\n",
              "      const base64 = btoa(String.fromCharCode.apply(null, chunk));\n",
              "      yield {\n",
              "        response: {\n",
              "          action: 'append',\n",
              "          file: file.name,\n",
              "          data: base64,\n",
              "        },\n",
              "      };\n",
              "\n",
              "      let percentDone = fileData.byteLength === 0 ?\n",
              "          100 :\n",
              "          Math.round((position / fileData.byteLength) * 100);\n",
              "      percent.textContent = `${percentDone}% done`;\n",
              "\n",
              "    } while (position < fileData.byteLength);\n",
              "  }\n",
              "\n",
              "  // All done.\n",
              "  yield {\n",
              "    response: {\n",
              "      action: 'complete',\n",
              "    }\n",
              "  };\n",
              "}\n",
              "\n",
              "scope.google = scope.google || {};\n",
              "scope.google.colab = scope.google.colab || {};\n",
              "scope.google.colab._files = {\n",
              "  _uploadFiles,\n",
              "  _uploadFilesContinue,\n",
              "};\n",
              "})(self);\n",
              "</script> "
            ]
          },
          "metadata": {}
        },
        {
          "output_type": "stream",
          "name": "stdout",
          "text": [
            "Saving kaggle.json to kaggle.json\n"
          ]
        },
        {
          "output_type": "execute_result",
          "data": {
            "text/plain": [
              "{'kaggle.json': b'{\"username\":\"riccardoromano\",\"key\":\"f97b259326d7d34d0d0d0686a4f103df\"}'}"
            ]
          },
          "metadata": {},
          "execution_count": 1
        }
      ]
    },
    {
      "cell_type": "code",
      "source": [
        "! mkdir ~/.kaggle\n",
        "! cp kaggle.json ~/.kaggle/"
      ],
      "metadata": {
        "id": "IaPUPRbRQw_q"
      },
      "execution_count": null,
      "outputs": []
    },
    {
      "cell_type": "code",
      "source": [
        "! chmod 600 ~/.kaggle/kaggle.json"
      ],
      "metadata": {
        "id": "D27ZYep_Q0Xw"
      },
      "execution_count": null,
      "outputs": []
    },
    {
      "cell_type": "code",
      "source": [
        "! kaggle datasets list"
      ],
      "metadata": {
        "id": "CalfRvo7Q30X"
      },
      "execution_count": null,
      "outputs": []
    },
    {
      "cell_type": "code",
      "source": [
        "! kaggle competitions download -c unina-machine-learning-2324-minicontest-n3"
      ],
      "metadata": {
        "id": "faaGut-dQ9qf",
        "colab": {
          "base_uri": "https://localhost:8080/"
        },
        "outputId": "9cf2f404-3643-411f-a569-cb444f192a63"
      },
      "execution_count": null,
      "outputs": [
        {
          "output_type": "stream",
          "name": "stdout",
          "text": [
            "Downloading unina-machine-learning-2324-minicontest-n3.zip to /content\n",
            "100% 12.2G/12.3G [02:18<00:00, 85.1MB/s]\n",
            "100% 12.3G/12.3G [02:18<00:00, 95.2MB/s]\n"
          ]
        }
      ]
    },
    {
      "cell_type": "markdown",
      "source": [
        "# ***Unzip*** ***Dataset***"
      ],
      "metadata": {
        "id": "WrLschmQcgfz"
      }
    },
    {
      "cell_type": "code",
      "source": [
        "!unzip unina-machine-learning-2324-minicontest-n3.zip"
      ],
      "metadata": {
        "id": "x4Ird0JOcWdK"
      },
      "execution_count": null,
      "outputs": []
    },
    {
      "cell_type": "markdown",
      "source": [
        "*import e settaggio GPU*"
      ],
      "metadata": {
        "id": "-RR_ZLFYeTE0"
      }
    },
    {
      "cell_type": "code",
      "source": [
        "###########################\n",
        "# IMPORT\n",
        "import scipy.io as sio\n",
        "import pandas as pd\n",
        "import torch\n",
        "import torch.nn as nn\n",
        "import torch.optim as optim\n",
        "from torch.optim import lr_scheduler\n",
        "import numpy as np\n",
        "import torchvision\n",
        "from torchvision import datasets, models, transforms\n",
        "import matplotlib.pyplot as plt\n",
        "import time\n",
        "import os\n",
        "import shutil\n",
        "import copy\n",
        "import random\n",
        "from random import shuffle\n",
        "from tqdm import tqdm\n",
        "######################################\n",
        "print(torch.__version__)\n",
        "print(torch.cuda.is_available())\n",
        "print(torch.cuda.get_device_name(0))\n",
        "device = torch.device(\"cuda:0\" if torch.cuda.is_available() else \"cpu\")\n",
        "print(device)"
      ],
      "metadata": {
        "colab": {
          "base_uri": "https://localhost:8080/"
        },
        "id": "LQ7EtmdeeUk8",
        "outputId": "ab7d7b46-0f6f-4a35-ebaa-d6093c7a7f74"
      },
      "execution_count": null,
      "outputs": [
        {
          "output_type": "stream",
          "name": "stdout",
          "text": [
            "2.1.0+cu121\n",
            "True\n",
            "Tesla T4\n",
            "cuda:0\n"
          ]
        }
      ]
    },
    {
      "cell_type": "markdown",
      "source": [
        "# *Split Dataset in Train, Validation e Test*"
      ],
      "metadata": {
        "id": "MAXthf8MelCO"
      }
    },
    {
      "cell_type": "code",
      "source": [
        "import os\n",
        "from shutil import copyfile\n",
        "import random\n",
        "\n",
        "# Percorso della cartella principale del dataset\n",
        "dataset_path = \"/content/TrainingSet\"\n",
        "\n",
        "# Etichette delle cartelle\n",
        "labels = [\"BR\", \"CL\", \"DA\", \"RA\", \"SF\", \"SH\"]\n",
        "\n",
        "# Proporzioni per divisione di training, validation e test set (60%, 20%, 20%)\n",
        "train_ratio = 0.6\n",
        "val_ratio = 0.2\n",
        "test_ratio = 0.2\n",
        "\n",
        "# Cartella \"dataset_diviso\" nella stessa posizione di \"dataset\"\n",
        "dataset_diviso_path = os.path.join(os.path.dirname(dataset_path), \"dataset_diviso\")\n",
        "os.makedirs(dataset_diviso_path, exist_ok=True)\n",
        "\n",
        "# Seed fisso per garantire riproducibilità della divisione\n",
        "seed = 1926\n",
        "\n",
        "for label in labels:\n",
        "    # Percorso completo per la cartella dell'etichetta corrente\n",
        "    label_path = os.path.join(dataset_path, label)\n",
        "\n",
        "    # Lista di tutti i file nella cartella dell'etichetta\n",
        "    files = os.listdir(label_path)\n",
        "\n",
        "    print(f\"Numero di file in {label}: {len(files)}\")\n",
        "\n",
        "    # Shuffle dei file in modo casuale\n",
        "    random.seed(seed)\n",
        "    random.shuffle(files)\n",
        "\n",
        "    # Dimensioni dei set in base alle proporzioni specificate\n",
        "    total_size = len(files)\n",
        "    train_size = int(total_size * train_ratio)\n",
        "    val_size = int(total_size * val_ratio)\n",
        "    test_size = int(total_size * test_ratio)\n",
        "\n",
        "    # Elenchi dei file per i set di training, validation e test\n",
        "    train_files = files[:train_size]\n",
        "    val_files = files[train_size:train_size + val_size]\n",
        "    test_files = files[train_size + val_size:]\n",
        "\n",
        "\n",
        "    # Cartelle per il training, validation e test set\n",
        "    train_folder = os.path.join(dataset_diviso_path, \"train\", label)\n",
        "    val_folder = os.path.join(dataset_diviso_path, \"val\", label)\n",
        "    test_folder = os.path.join(dataset_diviso_path, \"test\", label)\n",
        "\n",
        "    os.makedirs(train_folder, exist_ok=True)\n",
        "    os.makedirs(val_folder, exist_ok=True)\n",
        "    os.makedirs(test_folder, exist_ok=True)\n",
        "\n",
        "    # Copia i file nei rispettivi set e aggiorna i contatori\n",
        "    for file_name in train_files:\n",
        "        src_path = os.path.join(label_path, file_name)\n",
        "        dst_path = os.path.join(train_folder, file_name)\n",
        "        copyfile(src_path, dst_path)\n",
        "\n",
        "    for file_name in val_files:\n",
        "        src_path = os.path.join(label_path, file_name)\n",
        "        dst_path = os.path.join(val_folder, file_name)\n",
        "        copyfile(src_path, dst_path)\n",
        "\n",
        "    for file_name in test_files:\n",
        "        src_path = os.path.join(label_path, file_name)\n",
        "        dst_path = os.path.join(test_folder, file_name)\n",
        "        copyfile(src_path, dst_path)"
      ],
      "metadata": {
        "id": "As8i4jlTeqYi",
        "colab": {
          "base_uri": "https://localhost:8080/"
        },
        "outputId": "ed19116d-aeb6-43cb-deb3-9d661a7bda3f"
      },
      "execution_count": null,
      "outputs": [
        {
          "metadata": {
            "tags": null
          },
          "name": "stdout",
          "output_type": "stream",
          "text": [
            "Numero di file in BR: 837\n",
            "Numero di file in CL: 853\n",
            "Numero di file in DA: 825\n",
            "Numero di file in RA: 851\n",
            "Numero di file in SF: 824\n",
            "Numero di file in SH: 809\n"
          ]
        }
      ]
    },
    {
      "cell_type": "markdown",
      "source": [
        "*Definizione ciclo di Addestramento e Validazione per trovare il modello migliore*"
      ],
      "metadata": {
        "id": "o22WHDZRfLQ-"
      }
    },
    {
      "cell_type": "code",
      "source": [
        "# Definizione ciclo di addestramento\n",
        "def train_loop_validation(dataloaders, startEpoch, numEpochs, model_conv, criterionCNN, optimizer_conv, scheduler,\n",
        "                          best_acc, best_loss, best_epoca, outputPath):\n",
        "\n",
        "  for epochs in range(startEpoch, numEpochs + 1):\n",
        "    since = time.time()\n",
        "\n",
        "    modelLoss_train = 0.0\n",
        "    modelAcc_train = 0.0\n",
        "\n",
        "    # Settaggio modello in modalità training\n",
        "    model_conv.train()\n",
        "\n",
        "    totalSize = 0\n",
        "\n",
        "    #Per ogni batch\n",
        "    for inputs, labels in dataloaders['train']:\n",
        "      inputs = inputs.type(torch.FloatTensor).cuda()\n",
        "      labels = labels.cuda()\n",
        "\n",
        "      optimizer_conv.zero_grad()\n",
        "      model_conv.zero_grad()\n",
        "\n",
        "      # Forward: Calcolo delle predizioni del modello\n",
        "      y = model_conv(inputs)\n",
        "      outp, preds = torch.max(y, 1)\n",
        "      # Calcolo della loss attraverso classi predette ed etichettate reali\n",
        "      lossCNN = criterionCNN(y, labels)\n",
        "\n",
        "      modelLoss_train += lossCNN.item() * inputs.size(0)\n",
        "      totalSize += inputs.size(0)\n",
        "      modelAcc_train += torch.sum(preds == labels.data).item()\n",
        "      # Backward: Calcolo dei gradienti della loss rispetto ai parametri del modello\n",
        "      lossCNN.backward()\n",
        "      # Aggiornamento dei pesi in base al gradiente calcolato\n",
        "      optimizer_conv.step()\n",
        "\n",
        "    # Calcolo delle metriche di addestramento\n",
        "    modelLoss_epoch_train = modelLoss_train/totalSize\n",
        "    modelAcc_epoch_train  = modelAcc_train/totalSize\n",
        "\n",
        "    # Salvataggio dei pesi ad ogni iterazione -> nel caso si interrompa e voglio riprendere il training\n",
        "    torch.save(model_conv.state_dict(), outputPath + 'train_weights.pth')\n",
        "\n",
        "    # Settaggio modello in fase di valutazione\n",
        "    model_conv.eval()\n",
        "    totalSize_val = 0\n",
        "    modelLoss_val = 0.0\n",
        "    modelAcc_val = 0.0\n",
        "\n",
        "    for inputs, labels in dataloaders['val']:\n",
        "      inputs = inputs.type(torch.FloatTensor).cuda()\n",
        "      labels = labels.cuda()\n",
        "\n",
        "      y = model_conv(inputs)\n",
        "      outp, preds = torch.max(y, 1)\n",
        "      lossCNN = criterionCNN(y, labels)\n",
        "\n",
        "      modelLoss_val += lossCNN.item() * inputs.size(0)\n",
        "      totalSize_val += inputs.size(0)\n",
        "      modelAcc_val += torch.sum(preds == labels.data).item()\n",
        "\n",
        "    modelLoss_epoch_val=modelLoss_val/totalSize_val\n",
        "    modelAcc_epoch_val = modelAcc_val/totalSize_val\n",
        "    time_elapsed = time.time()-since\n",
        "\n",
        "    print('[Epoch %d][TRAIN on %d [Loss: %.4f  ACC: %.4f]][VAL on %d [Loss: %.4f  ACC: %.4f]][TIME: %.0f m %.0f s]'\n",
        "          %(epochs, totalSize, modelLoss_epoch_train, modelAcc_epoch_train, totalSize_val, modelLoss_epoch_val,\n",
        "            modelAcc_epoch_val, time_elapsed // 60, time_elapsed % 60))\n",
        "\n",
        "    if (modelAcc_epoch_val > best_acc) or (modelAcc_epoch_val == best_acc and modelLoss_epoch_val < best_loss) :\n",
        "      print('     ... ;) ;) ;) Saving best weights ;) ;) ;) ...')\n",
        "      best_acc = modelAcc_epoch_val\n",
        "      best_loss = modelLoss_epoch_val\n",
        "      best_epoca = epochs\n",
        "      # Salvataggio dei migliori pesi sul validation\n",
        "      torch.save(model_conv.state_dict(), outputPath + 'best_model_weights.pth')\n",
        "  # Salvataggio valori in file txt utili per graficare\n",
        "    with open(outputPath + 'lossTrain.txt', \"a\") as file_object:\n",
        "      file_object.write(str(modelLoss_epoch_train) +'\\n')\n",
        "\n",
        "    with open(outputPath + 'AccTrain.txt', \"a\") as file_object:\n",
        "      file_object.write(str(modelAcc_epoch_train)+'\\n')\n",
        "\n",
        "    with open(outputPath + 'lossVal.txt', \"a\") as file_object:\n",
        "      file_object.write(str(modelLoss_epoch_val)+'\\n')\n",
        "\n",
        "    with open(outputPath + 'AccVal.txt', \"a\") as file_object:\n",
        "      file_object.write(str(modelAcc_epoch_val)+'\\n')\n",
        "\n",
        "    sio.savemat(outputPath + 'check_point.mat', {'best_acc': best_acc,\n",
        "                                                 'best_loss': best_loss,\n",
        "                                                 'best_epoca': best_epoca,\n",
        "                                                 'last_epoch': epochs})\n",
        "    # Aggiornamento del learning rate\n",
        "    scheduler.step()"
      ],
      "metadata": {
        "id": "7-TICuRtfI5N"
      },
      "execution_count": null,
      "outputs": []
    },
    {
      "cell_type": "markdown",
      "source": [
        "*Settaggio Hyperparameters*"
      ],
      "metadata": {
        "id": "nkV8_ciXfOI7"
      }
    },
    {
      "cell_type": "code",
      "source": [
        "# Rende l'esecuzione deterministica\n",
        "torch.manual_seed(0)\n",
        "np.random.seed(0)\n",
        "torch.backends.cudnn.deterministic = True  #Flag utile per la riproducibilità del modello\n",
        "torch.backends.cudnn.benchmark = False\n",
        "\n",
        "# Update 11/12: Diminuito valore del learning rate per avere grafici più precisi\n",
        "learning_rate = 0.00001\n",
        "batch_size = 32\n",
        "set_classes_number = 6\n",
        "num_epoch = 30"
      ],
      "metadata": {
        "id": "kSC_At5CfTFs"
      },
      "execution_count": null,
      "outputs": []
    },
    {
      "cell_type": "markdown",
      "source": [
        "*Preparazione dei dati mediante trasformazioni per aumentare la robustezza del modello*\n",
        "\n"
      ],
      "metadata": {
        "id": "-dnlf_QZfaMJ"
      }
    },
    {
      "cell_type": "code",
      "source": [
        "data_transforms = {\n",
        "    'train': transforms.Compose([\n",
        "        transforms.RandomResizedCrop(224),\n",
        "        transforms.RandomHorizontalFlip(),\n",
        "        transforms.ToTensor(),\n",
        "        transforms.Normalize([0.485, 0.456, 0.406], [0.229, 0.224, 0.225])\n",
        "    ]),\n",
        "    'val': transforms.Compose([\n",
        "        transforms.Resize(256),\n",
        "        transforms.CenterCrop(224),\n",
        "        transforms.ToTensor(),\n",
        "        transforms.Normalize([0.485, 0.456, 0.406], [0.229, 0.224, 0.225])\n",
        "    ]),\n",
        "    'test': transforms.Compose([\n",
        "            transforms.Resize(256),\n",
        "            transforms.CenterCrop(224),\n",
        "            transforms.ToTensor(),\n",
        "            transforms.Normalize([0.485, 0.456, 0.406], [0.229, 0.224, 0.225])\n",
        "        ]),\n",
        "}\n",
        "\n",
        "# Divisione dei dataset in dataloader di training, validation e test\n",
        "data_dir = '/content/dataset_diviso'\n",
        "image_datasets = {x: datasets.ImageFolder(os.path.join(data_dir, x), data_transforms[x])\n",
        "                  for x in ['train', 'val', 'test']}\n",
        "# Costruzione DataLoader che suddivide in batch ed effettua lo shuffle casuale\n",
        "dataloaders = {x: torch.utils.data.DataLoader(image_datasets[x], batch_size, shuffle=True, num_workers=2)\n",
        "                  for x in ['train', 'val', 'test']}\n",
        "\n",
        "dataset_sizes = {x: len(image_datasets[x]) for x in ['train', 'val', 'test']}\n",
        "\n",
        "class_names = image_datasets['train'].classes\n",
        "\n",
        "device = torch.device(\"cuda:0\" if torch.cuda.is_available() else \"cpu\")\n",
        "class_names = (image_datasets['train'].classes)\n",
        "\n",
        "print(class_names)\n",
        "print(image_datasets['val'].classes)\n",
        "print(image_datasets['test'].classes)"
      ],
      "metadata": {
        "colab": {
          "base_uri": "https://localhost:8080/"
        },
        "id": "84J1Ck4Mfg1t",
        "outputId": "b57726c6-f288-4274-d949-4eba6a2c2d76"
      },
      "execution_count": null,
      "outputs": [
        {
          "metadata": {
            "tags": null
          },
          "name": "stdout",
          "output_type": "stream",
          "text": [
            "['BR', 'CL', 'DA', 'RA', 'SF', 'SH']\n",
            "['BR', 'CL', 'DA', 'RA', 'SF', 'SH']\n",
            "['BR', 'CL', 'DA', 'RA', 'SF', 'SH']\n"
          ]
        }
      ]
    },
    {
      "cell_type": "markdown",
      "source": [
        "*Creazione del modello con rete xception*"
      ],
      "metadata": {
        "id": "CkaM08ONflM-"
      }
    },
    {
      "cell_type": "markdown",
      "source": [
        "# Rete Xception\n",
        "\n",
        "La rete Xception è un particolare tipo di rete neurale convoluzionale (CNN) che basa la sua struttura su un concetto chiave chiamato \"Depthwise Separable Convolutions\":\n",
        "Xception utilizza un modulo di convoluzione separabile in profondità  al posto delle tradizionali convoluzioni. Questo modulo si compone di due passaggi:\n",
        "\n",
        "\n",
        "*   Convoluzione in profondità: Applica una singola convoluzione per ciascun canale di input\n",
        "*   Convoluzione pointwise: Utilizza un kernel 1x1 per combinare le informazioni da tutti i canali.\n",
        "\n",
        "In questo modo si beneficia di una riduzione del numero di parametri e di una rappresentazione spaziale migliore."
      ],
      "metadata": {
        "id": "HY-8zMwJ8mBz"
      }
    },
    {
      "cell_type": "code",
      "source": [
        "!pip install timm\n",
        "# Timm, acronimo di \"PyTorch Image Models\", è una libreria progettata per semplificare l'utilizzo\n",
        "# di modelli avanzati di deep learning nell'ambito dell'elaborazione delle immagini utilizzando PyTorch"
      ],
      "metadata": {
        "id": "7gQP36LKhaIF",
        "colab": {
          "base_uri": "https://localhost:8080/"
        },
        "outputId": "49845858-80d3-4613-e73a-240bf0d42382"
      },
      "execution_count": null,
      "outputs": [
        {
          "output_type": "stream",
          "name": "stdout",
          "text": [
            "Collecting timm\n",
            "  Downloading timm-0.9.16-py3-none-any.whl (2.2 MB)\n",
            "\u001b[2K     \u001b[90m━━━━━━━━━━━━━━━━━━━━━━━━━━━━━━━━━━━━━━━━\u001b[0m \u001b[32m2.2/2.2 MB\u001b[0m \u001b[31m11.1 MB/s\u001b[0m eta \u001b[36m0:00:00\u001b[0m\n",
            "\u001b[?25hRequirement already satisfied: torch in /usr/local/lib/python3.10/dist-packages (from timm) (2.1.0+cu121)\n",
            "Requirement already satisfied: torchvision in /usr/local/lib/python3.10/dist-packages (from timm) (0.16.0+cu121)\n",
            "Requirement already satisfied: pyyaml in /usr/local/lib/python3.10/dist-packages (from timm) (6.0.1)\n",
            "Requirement already satisfied: huggingface_hub in /usr/local/lib/python3.10/dist-packages (from timm) (0.20.3)\n",
            "Requirement already satisfied: safetensors in /usr/local/lib/python3.10/dist-packages (from timm) (0.4.2)\n",
            "Requirement already satisfied: filelock in /usr/local/lib/python3.10/dist-packages (from huggingface_hub->timm) (3.13.1)\n",
            "Requirement already satisfied: fsspec>=2023.5.0 in /usr/local/lib/python3.10/dist-packages (from huggingface_hub->timm) (2023.6.0)\n",
            "Requirement already satisfied: requests in /usr/local/lib/python3.10/dist-packages (from huggingface_hub->timm) (2.31.0)\n",
            "Requirement already satisfied: tqdm>=4.42.1 in /usr/local/lib/python3.10/dist-packages (from huggingface_hub->timm) (4.66.2)\n",
            "Requirement already satisfied: typing-extensions>=3.7.4.3 in /usr/local/lib/python3.10/dist-packages (from huggingface_hub->timm) (4.9.0)\n",
            "Requirement already satisfied: packaging>=20.9 in /usr/local/lib/python3.10/dist-packages (from huggingface_hub->timm) (23.2)\n",
            "Requirement already satisfied: sympy in /usr/local/lib/python3.10/dist-packages (from torch->timm) (1.12)\n",
            "Requirement already satisfied: networkx in /usr/local/lib/python3.10/dist-packages (from torch->timm) (3.2.1)\n",
            "Requirement already satisfied: jinja2 in /usr/local/lib/python3.10/dist-packages (from torch->timm) (3.1.3)\n",
            "Requirement already satisfied: triton==2.1.0 in /usr/local/lib/python3.10/dist-packages (from torch->timm) (2.1.0)\n",
            "Requirement already satisfied: numpy in /usr/local/lib/python3.10/dist-packages (from torchvision->timm) (1.25.2)\n",
            "Requirement already satisfied: pillow!=8.3.*,>=5.3.0 in /usr/local/lib/python3.10/dist-packages (from torchvision->timm) (9.4.0)\n",
            "Requirement already satisfied: MarkupSafe>=2.0 in /usr/local/lib/python3.10/dist-packages (from jinja2->torch->timm) (2.1.5)\n",
            "Requirement already satisfied: charset-normalizer<4,>=2 in /usr/local/lib/python3.10/dist-packages (from requests->huggingface_hub->timm) (3.3.2)\n",
            "Requirement already satisfied: idna<4,>=2.5 in /usr/local/lib/python3.10/dist-packages (from requests->huggingface_hub->timm) (3.6)\n",
            "Requirement already satisfied: urllib3<3,>=1.21.1 in /usr/local/lib/python3.10/dist-packages (from requests->huggingface_hub->timm) (2.0.7)\n",
            "Requirement already satisfied: certifi>=2017.4.17 in /usr/local/lib/python3.10/dist-packages (from requests->huggingface_hub->timm) (2024.2.2)\n",
            "Requirement already satisfied: mpmath>=0.19 in /usr/local/lib/python3.10/dist-packages (from sympy->torch->timm) (1.3.0)\n",
            "Installing collected packages: timm\n",
            "Successfully installed timm-0.9.16\n"
          ]
        }
      ]
    },
    {
      "cell_type": "code",
      "source": [
        "import timm\n",
        "# -------------------------------------------------------------------------------------  create model\n",
        "networkName = 'xception'\n",
        "WeightPath = '/content/pesi/' + networkName + '/'\n",
        "\n",
        "try:\n",
        "  os.makedirs(WeightPath)\n",
        "except:\n",
        "  pass\n",
        "\n",
        "model_conv = timm.create_model(\"xception\", pretrained=True)\n",
        "num_ftrs = model_conv.fc.in_features\n",
        "model_conv.fc = nn.Linear(num_ftrs, set_classes_number)\n",
        "\n",
        "model_conv = model_conv.cuda()\n",
        "criterion = nn.CrossEntropyLoss()\n",
        "optimizer_conv = optim.Adam(model_conv.parameters(), lr=learning_rate)\n",
        "scheduler = lr_scheduler.StepLR(optimizer_conv, step_size=10, gamma=0.1)\n",
        "\n",
        "checkpoint_path_train = WeightPath + 'train_weights.pth'\n",
        "if os.path.exists(checkpoint_path_train):\n",
        "    model_conv.load_state_dict(torch.load(checkpoint_path_train))\n",
        "    print(\"Addestramento ripreso dai pesi di train salvati.\")\n",
        "else:\n",
        "    print(\"Nessun checkpoint di train trovato. Avvio un nuovo addestramento.\")"
      ],
      "metadata": {
        "id": "GXUknSw7fods",
        "colab": {
          "base_uri": "https://localhost:8080/"
        },
        "outputId": "7e4d116d-56dd-4e6a-d34c-aad2e1cd0cce"
      },
      "execution_count": null,
      "outputs": [
        {
          "output_type": "stream",
          "name": "stderr",
          "text": [
            "/usr/local/lib/python3.10/dist-packages/timm/models/_factory.py:117: UserWarning: Mapping deprecated model name xception to current legacy_xception.\n",
            "  model = create_fn(\n",
            "Downloading: \"https://github.com/rwightman/pytorch-image-models/releases/download/v0.1-cadene/xception-43020ad28.pth\" to /root/.cache/torch/hub/checkpoints/xception-43020ad28.pth\n"
          ]
        },
        {
          "output_type": "stream",
          "name": "stdout",
          "text": [
            "Nessun checkpoint di train trovato. Avvio un nuovo addestramento.\n"
          ]
        }
      ]
    },
    {
      "cell_type": "markdown",
      "source": [
        "# *Training con xception*"
      ],
      "metadata": {
        "id": "rg3NXo86ighZ"
      }
    },
    {
      "cell_type": "code",
      "source": [
        "startEpoch =1\n",
        "best_acc = 0\n",
        "best_loss=0\n",
        "best_epoca = 0\n",
        "\n",
        "train_loop_validation(dataloaders, startEpoch, num_epoch, model_conv, criterion, optimizer_conv, scheduler, best_acc, best_loss, best_epoca, WeightPath)"
      ],
      "metadata": {
        "colab": {
          "base_uri": "https://localhost:8080/"
        },
        "id": "9cvIWGUEifVw",
        "outputId": "87979c89-75ad-432c-8e7a-8539d99744c2"
      },
      "execution_count": null,
      "outputs": [
        {
          "output_type": "stream",
          "name": "stdout",
          "text": [
            "[Epoch 1][TRAIN on 2997 [Loss: 1.6223  ACC: 0.5629]][VAL on 997 [Loss: 1.2286  ACC: 0.8596]][TIME: 3 m 26 s]\n",
            "     ... ;) ;) ;) Saving best weights ;) ;) ;) ...\n",
            "[Epoch 2][TRAIN on 2997 [Loss: 1.1145  ACC: 0.8055]][VAL on 997 [Loss: 0.5245  ACC: 0.9067]][TIME: 3 m 22 s]\n",
            "     ... ;) ;) ;) Saving best weights ;) ;) ;) ...\n",
            "[Epoch 3][TRAIN on 2997 [Loss: 0.7217  ACC: 0.8398]][VAL on 997 [Loss: 0.3048  ACC: 0.9248]][TIME: 3 m 24 s]\n",
            "     ... ;) ;) ;) Saving best weights ;) ;) ;) ...\n",
            "[Epoch 4][TRAIN on 2997 [Loss: 0.5234  ACC: 0.8699]][VAL on 997 [Loss: 0.2202  ACC: 0.9378]][TIME: 3 m 22 s]\n",
            "     ... ;) ;) ;) Saving best weights ;) ;) ;) ...\n",
            "[Epoch 5][TRAIN on 2997 [Loss: 0.4165  ACC: 0.8886]][VAL on 997 [Loss: 0.1855  ACC: 0.9498]][TIME: 3 m 23 s]\n",
            "     ... ;) ;) ;) Saving best weights ;) ;) ;) ...\n",
            "[Epoch 6][TRAIN on 2997 [Loss: 0.3471  ACC: 0.8992]][VAL on 997 [Loss: 0.1635  ACC: 0.9529]][TIME: 3 m 19 s]\n",
            "     ... ;) ;) ;) Saving best weights ;) ;) ;) ...\n",
            "[Epoch 7][TRAIN on 2997 [Loss: 0.3220  ACC: 0.9026]][VAL on 997 [Loss: 0.1510  ACC: 0.9589]][TIME: 3 m 24 s]\n",
            "     ... ;) ;) ;) Saving best weights ;) ;) ;) ...\n",
            "[Epoch 8][TRAIN on 2997 [Loss: 0.2822  ACC: 0.9109]][VAL on 997 [Loss: 0.1345  ACC: 0.9629]][TIME: 3 m 19 s]\n",
            "     ... ;) ;) ;) Saving best weights ;) ;) ;) ...\n",
            "[Epoch 9][TRAIN on 2997 [Loss: 0.2678  ACC: 0.9116]][VAL on 997 [Loss: 0.1178  ACC: 0.9679]][TIME: 3 m 21 s]\n",
            "     ... ;) ;) ;) Saving best weights ;) ;) ;) ...\n",
            "[Epoch 10][TRAIN on 2997 [Loss: 0.2206  ACC: 0.9326]][VAL on 997 [Loss: 0.1125  ACC: 0.9689]][TIME: 3 m 20 s]\n",
            "     ... ;) ;) ;) Saving best weights ;) ;) ;) ...\n",
            "[Epoch 11][TRAIN on 2997 [Loss: 0.2123  ACC: 0.9346]][VAL on 997 [Loss: 0.1100  ACC: 0.9689]][TIME: 3 m 21 s]\n",
            "     ... ;) ;) ;) Saving best weights ;) ;) ;) ...\n",
            "[Epoch 12][TRAIN on 2997 [Loss: 0.2234  ACC: 0.9259]][VAL on 997 [Loss: 0.1067  ACC: 0.9699]][TIME: 3 m 21 s]\n",
            "     ... ;) ;) ;) Saving best weights ;) ;) ;) ...\n",
            "[Epoch 13][TRAIN on 2997 [Loss: 0.2226  ACC: 0.9293]][VAL on 997 [Loss: 0.1101  ACC: 0.9679]][TIME: 3 m 19 s]\n",
            "[Epoch 14][TRAIN on 2997 [Loss: 0.2087  ACC: 0.9319]][VAL on 997 [Loss: 0.1061  ACC: 0.9699]][TIME: 3 m 18 s]\n",
            "     ... ;) ;) ;) Saving best weights ;) ;) ;) ...\n",
            "[Epoch 15][TRAIN on 2997 [Loss: 0.2165  ACC: 0.9279]][VAL on 997 [Loss: 0.1070  ACC: 0.9699]][TIME: 3 m 20 s]\n",
            "[Epoch 16][TRAIN on 2997 [Loss: 0.2124  ACC: 0.9286]][VAL on 997 [Loss: 0.1061  ACC: 0.9699]][TIME: 3 m 19 s]\n",
            "[Epoch 17][TRAIN on 2997 [Loss: 0.2156  ACC: 0.9309]][VAL on 997 [Loss: 0.1055  ACC: 0.9709]][TIME: 3 m 20 s]\n",
            "     ... ;) ;) ;) Saving best weights ;) ;) ;) ...\n",
            "[Epoch 18][TRAIN on 2997 [Loss: 0.2119  ACC: 0.9316]][VAL on 997 [Loss: 0.1061  ACC: 0.9709]][TIME: 3 m 15 s]\n",
            "[Epoch 19][TRAIN on 2997 [Loss: 0.2114  ACC: 0.9303]][VAL on 997 [Loss: 0.1046  ACC: 0.9699]][TIME: 3 m 21 s]\n",
            "[Epoch 20][TRAIN on 2997 [Loss: 0.2024  ACC: 0.9359]][VAL on 997 [Loss: 0.1074  ACC: 0.9699]][TIME: 3 m 18 s]\n",
            "[Epoch 21][TRAIN on 2997 [Loss: 0.2143  ACC: 0.9266]][VAL on 997 [Loss: 0.1044  ACC: 0.9709]][TIME: 3 m 20 s]\n",
            "     ... ;) ;) ;) Saving best weights ;) ;) ;) ...\n",
            "[Epoch 22][TRAIN on 2997 [Loss: 0.2035  ACC: 0.9356]][VAL on 997 [Loss: 0.1041  ACC: 0.9709]][TIME: 3 m 22 s]\n",
            "     ... ;) ;) ;) Saving best weights ;) ;) ;) ...\n",
            "[Epoch 23][TRAIN on 2997 [Loss: 0.2108  ACC: 0.9319]][VAL on 997 [Loss: 0.1039  ACC: 0.9709]][TIME: 3 m 20 s]\n",
            "     ... ;) ;) ;) Saving best weights ;) ;) ;) ...\n",
            "[Epoch 24][TRAIN on 2997 [Loss: 0.2081  ACC: 0.9333]][VAL on 997 [Loss: 0.1028  ACC: 0.9699]][TIME: 3 m 16 s]\n",
            "[Epoch 25][TRAIN on 2997 [Loss: 0.2082  ACC: 0.9333]][VAL on 997 [Loss: 0.1070  ACC: 0.9699]][TIME: 3 m 20 s]\n",
            "[Epoch 26][TRAIN on 2997 [Loss: 0.2223  ACC: 0.9236]][VAL on 997 [Loss: 0.1052  ACC: 0.9709]][TIME: 3 m 20 s]\n",
            "[Epoch 27][TRAIN on 2997 [Loss: 0.2091  ACC: 0.9309]][VAL on 997 [Loss: 0.1021  ACC: 0.9709]][TIME: 3 m 21 s]\n",
            "     ... ;) ;) ;) Saving best weights ;) ;) ;) ...\n",
            "[Epoch 28][TRAIN on 2997 [Loss: 0.2135  ACC: 0.9309]][VAL on 997 [Loss: 0.1021  ACC: 0.9709]][TIME: 3 m 20 s]\n",
            "[Epoch 29][TRAIN on 2997 [Loss: 0.2055  ACC: 0.9306]][VAL on 997 [Loss: 0.1017  ACC: 0.9709]][TIME: 3 m 20 s]\n",
            "     ... ;) ;) ;) Saving best weights ;) ;) ;) ...\n",
            "[Epoch 30][TRAIN on 2997 [Loss: 0.2059  ACC: 0.9343]][VAL on 997 [Loss: 0.1007  ACC: 0.9719]][TIME: 3 m 18 s]\n",
            "     ... ;) ;) ;) Saving best weights ;) ;) ;) ...\n"
          ]
        }
      ]
    },
    {
      "cell_type": "markdown",
      "source": [
        "*Creazione modello con rete resnet*"
      ],
      "metadata": {
        "id": "GrRnmc6chx9J"
      }
    },
    {
      "cell_type": "code",
      "source": [
        "'''\n",
        "import torch.nn as nn\n",
        "import torch.optim as optim\n",
        "import torchvision\n",
        "from torchvision import models\n",
        "\n",
        "# -------------------------------------------------------------------------------------  create model\n",
        "networkName = 'resnet'\n",
        "WeightPath = '/content/pesi/' + networkName + '/'\n",
        "\n",
        "try:\n",
        "  os.makedirs(#WeightPath)\n",
        "except:\n",
        "  pass\n",
        "\n",
        "# Utilizza ResNet18 al posto di AlexNet\n",
        "model_ft = models.resnet18(pretrained=True)\n",
        "\n",
        "# Modifica l'ultimo strato completamente connesso\n",
        "num_ftrs = model_ft.fc.in_features\n",
        "model_ft.fc = nn.Linear(num_ftrs, set_classes_number)\n",
        "\n",
        "# Congela tutti i pesi tranne quelli dell'ultimo layer completamente connesso\n",
        "for param in model_ft.parameters():\n",
        "    param.requires_grad = False\n",
        "\n",
        "# Attiva il gradiente solo per i parametri dell'ultimo layer completamente connesso\n",
        "for param in model_ft.fc.parameters():\n",
        "    param.requires_grad = True\n",
        "\n",
        "print(model_ft)\n",
        "\n",
        "model_conv = model_ft.cuda()\n",
        "criterion = nn.CrossEntropyLoss()\n",
        "optimizer_conv = optim.Adam(model_conv.parameters(), lr=learning_rate)\n",
        "scheduler = lr_scheduler.StepLR(optimizer_conv, step_size=5, gamma=0.1)\n",
        "'''"
      ],
      "metadata": {
        "id": "OL0jKvLrh084",
        "colab": {
          "base_uri": "https://localhost:8080/",
          "height": 139
        },
        "outputId": "c553881e-95a0-4648-c96b-3bdd9d624a81"
      },
      "execution_count": null,
      "outputs": [
        {
          "data": {
            "application/vnd.google.colaboratory.intrinsic+json": {
              "type": "string"
            },
            "text/plain": [
              "\"\\nimport torch.nn as nn\\nimport torch.optim as optim\\nimport torchvision\\nfrom torchvision import models\\n\\n# -------------------------------------------------------------------------------------  create model\\nnetworkName = 'resnet'\\nWeightPath = '/content/pesi/' + networkName + '/'\\n\\ntry:\\n  os.makedirs(#WeightPath)\\nexcept:\\n  pass\\n\\n# Utilizza ResNet18 al posto di AlexNet\\nmodel_ft = models.resnet18(pretrained=True)\\n\\n# Modifica l'ultimo strato completamente connesso\\nnum_ftrs = model_ft.fc.in_features\\nmodel_ft.fc = nn.Linear(num_ftrs, set_classes_number)\\n\\n# Congela tutti i pesi tranne quelli dell'ultimo layer completamente connesso\\nfor param in model_ft.parameters():\\n    param.requires_grad = False\\n\\n# Attiva il gradiente solo per i parametri dell'ultimo layer completamente connesso\\nfor param in model_ft.fc.parameters():\\n    param.requires_grad = True\\n\\nprint(model_ft)\\n\\nmodel_conv = model_ft.cuda()\\ncriterion = nn.CrossEntropyLoss()\\noptimizer_conv = optim.Adam(model_conv.parameters(), lr=learning_rate)\\nscheduler = lr_scheduler.StepLR(optimizer_conv, step_size=5, gamma=0.1)\\n\""
            ]
          },
          "execution_count": 15,
          "metadata": {},
          "output_type": "execute_result"
        }
      ]
    },
    {
      "cell_type": "markdown",
      "source": [
        "# *Training con ResNET*"
      ],
      "metadata": {
        "id": "q9RA-VhqfuYt"
      }
    },
    {
      "cell_type": "code",
      "source": [
        "'''\n",
        "startEpoch =1\n",
        "best_acc = 0\n",
        "best_loss=0\n",
        "best_epoca = 0\n",
        "\n",
        "train_loop_validation(dataloaders, startEpoch, num_epoch, model_conv, criterion, optimizer_conv, best_acc, best_loss, best_epoca, WeightPath)\n",
        "'''"
      ],
      "metadata": {
        "id": "Z0-9ipKcfv3a",
        "colab": {
          "base_uri": "https://localhost:8080/",
          "height": 52
        },
        "outputId": "3a87bc09-5d39-401e-b3ee-6dcad466080d"
      },
      "execution_count": null,
      "outputs": [
        {
          "data": {
            "application/vnd.google.colaboratory.intrinsic+json": {
              "type": "string"
            },
            "text/plain": [
              "'\\nstartEpoch =1\\nbest_acc = 0\\nbest_loss=0\\nbest_epoca = 0\\n\\ntrain_loop_validation(dataloaders, startEpoch, num_epoch, model_conv, criterion, optimizer_conv, best_acc, best_loss, best_epoca, WeightPath)\\n'"
            ]
          },
          "execution_count": 16,
          "metadata": {},
          "output_type": "execute_result"
        }
      ]
    },
    {
      "cell_type": "markdown",
      "source": [
        "*Salvataggio pesi e grafico Loss*"
      ],
      "metadata": {
        "id": "ttmRH0q-f1wb"
      }
    },
    {
      "cell_type": "code",
      "source": [
        "lossModel_Train = []\n",
        "lossModel_val = []\n",
        "accModel_Train = []\n",
        "accModel_val = []\n",
        "\n",
        "file = open(WeightPath + 'lossTrain.txt', 'r')\n",
        "Testo = file.readlines()\n",
        "for element in Testo:\n",
        "  lossModel_Train.append(float(element))\n",
        "\n",
        "file = open(WeightPath + 'lossVal.txt', 'r')\n",
        "Testo = file.readlines()\n",
        "for element in Testo:\n",
        "  lossModel_val.append(float(element))\n",
        "\n",
        "plt.figure()\n",
        "plt.title(\"Training Vs Validation Losses\")\n",
        "plt.xlabel('Epoch')\n",
        "plt.ylabel('Loss')\n",
        "plt.plot(list(range(1,len(lossModel_Train)+1)), lossModel_Train, color='r', label=\"Training Loss\")\n",
        "plt.plot(list(range(1, len(lossModel_val)+1)), lossModel_val, color='g', label=\"Validation Loss\")\n",
        "plt.legend()\n",
        "plt.savefig(WeightPath + 'LossTrainVal.png')\n",
        "\n",
        "file = open(WeightPath + 'AccTrain.txt', 'r')\n",
        "Testo = file.readlines()\n",
        "for element in Testo:\n",
        "  accModel_Train.append(float(element))\n",
        "\n",
        "file = open(WeightPath + 'AccVal.txt', 'r')\n",
        "Testo = file.readlines()\n",
        "for element in Testo:\n",
        "  accModel_val.append(float(element))\n",
        "\n",
        "plt.figure()\n",
        "plt.title(\"Training Vs Validation Accuracies\")\n",
        "plt.xlabel('Epoch')\n",
        "plt.ylabel('Accuracy')\n",
        "plt.plot(list(range(1, len(accModel_Train)+1)), accModel_Train, color='r', label=\"Training Accuracy\")\n",
        "plt.plot(list(range(1, len(accModel_val)+1)), accModel_val, color='g', label=\"Validation Accuracy\")\n",
        "plt.legend()\n",
        "plt.savefig(WeightPath + 'AccTrainVal.png')"
      ],
      "metadata": {
        "colab": {
          "base_uri": "https://localhost:8080/",
          "height": 927
        },
        "id": "cQKnyHYBf4OL",
        "outputId": "e3a63c8f-b6c5-4c51-e085-f35c2269f73f"
      },
      "execution_count": null,
      "outputs": [
        {
          "output_type": "display_data",
          "data": {
            "text/plain": [
              "<Figure size 640x480 with 1 Axes>"
            ],
            "image/png": "[encoded data removed]"
          },
          "metadata": {}
        },
        {
          "output_type": "display_data",
          "data": {
            "text/plain": [
              "<Figure size 640x480 with 1 Axes>"
            ],
            "image/png": "[encoded data removed]"
          },
          "metadata": {}
        }
      ]
    },
    {
      "cell_type": "markdown",
      "source": [
        "# Fase di Testing"
      ],
      "metadata": {
        "id": "Hd5aCdkis_Sj"
      }
    },
    {
      "cell_type": "code",
      "source": [
        "def test_model(model, dataloader, criterion):\n",
        "    model.eval()\n",
        "    total_correct = 0\n",
        "    total_samples = 0\n",
        "    total_loss = 0\n",
        "\n",
        "    with torch.no_grad():\n",
        "        for inputs, labels in tqdm(dataloader, desc=\"Testing\"):\n",
        "            inputs, labels = inputs.cuda(), labels.cuda()\n",
        "\n",
        "            outputs = model(inputs)\n",
        "            loss = criterion(outputs, labels)\n",
        "\n",
        "            _, preds = torch.max(outputs, 1)\n",
        "            total_correct += torch.sum(preds == labels.data)\n",
        "            total_samples += labels.size(0)\n",
        "            total_loss += loss.item() * inputs.size(0)\n",
        "\n",
        "    accuracy = total_correct.double() / total_samples\n",
        "    average_loss = total_loss / total_samples\n",
        "\n",
        "    print(f\"\\nTest Accuracy: {accuracy:.4f}\")\n",
        "    print(f\"Test Loss: {average_loss:.4f}\")\n",
        "\n",
        "# Controlla se esiste il test_dataloader, se non esiste lo sostituisce\n",
        "test_dataloader = dataloaders['test']\n",
        "\n",
        "# Funzione test_model\n",
        "test_model(model_conv, test_dataloader, criterion)"
      ],
      "metadata": {
        "colab": {
          "base_uri": "https://localhost:8080/"
        },
        "id": "VmEUnySstBI3",
        "outputId": "e343dab5-b6ef-4835-826c-ed8ee6af5473"
      },
      "execution_count": null,
      "outputs": [
        {
          "output_type": "stream",
          "name": "stderr",
          "text": [
            "Testing: 100%|██████████| 32/32 [00:56<00:00,  1.78s/it]"
          ]
        },
        {
          "output_type": "stream",
          "name": "stdout",
          "text": [
            "\n",
            "Test Accuracy: 0.9692\n",
            "Test Loss: 0.1060\n"
          ]
        },
        {
          "output_type": "stream",
          "name": "stderr",
          "text": [
            "\n"
          ]
        }
      ]
    },
    {
      "cell_type": "markdown",
      "source": [
        "*Creazione e download del file CSV per submit mediante classificazione del codice*"
      ],
      "metadata": {
        "id": "D9hOhML0f5i1"
      }
    },
    {
      "cell_type": "code",
      "source": [
        "import torch\n",
        "from torchvision import transforms\n",
        "from PIL import Image\n",
        "import csv\n",
        "from google.colab import files\n",
        "\n",
        "# Caricamento del modello addestrato\n",
        "model_path = WeightPath + 'best_model_weights.pth'\n",
        "checkpoint = torch.load(model_path)\n",
        "#model_conv.load_state_dict(checkpoint['model_state_dict'])\n",
        "\n",
        "# Verifica che la chiave 'state_dict' sia presente\n",
        "if 'state_dict' in checkpoint:\n",
        "    state_dict = checkpoint['state_dict']\n",
        "else:\n",
        "    state_dict = checkpoint\n",
        "\n",
        "# Adatta le chiavi del dizionario in base alla struttura del modello\n",
        "adjusted_state_dict = {}\n",
        "for key, value in state_dict.items():\n",
        "    new_key = key.replace('module.', '')  # Rimuove 'module.' se presente (dipende dalla modalità di salvataggio)\n",
        "    adjusted_state_dict[new_key] = value\n",
        "\n",
        "# Carica lo stato del modello\n",
        "model_conv.load_state_dict(adjusted_state_dict)\n",
        "model_conv.eval()\n",
        "\n",
        "# Prepara le nuove immagini\n",
        "new_images_path = '/content/TestSet'\n",
        "new_images = [os.path.join(new_images_path, img) for img in os.listdir(new_images_path)]\n",
        "\n",
        "# Applica le trasformazioni\n",
        "normalize = transforms.Normalize([0.485, 0.456, 0.406], [0.229, 0.224, 0.225])\n",
        "data_transforms = transforms.Compose([\n",
        "    transforms.Resize(256),\n",
        "    transforms.CenterCrop(224),\n",
        "    transforms.ToTensor(),\n",
        "    normalize\n",
        "])\n",
        "\n",
        "# Lista dei risultati\n",
        "results = []\n",
        "\n",
        "# Classificazione\n",
        "for img_path in new_images:\n",
        "    img = Image.open(img_path).convert('RGB')\n",
        "    img_tensor = data_transforms(img).unsqueeze(0)\n",
        "    img_tensor = img_tensor.cuda()\n",
        "\n",
        "    with torch.no_grad():\n",
        "        output = model_conv(img_tensor)\n",
        "        _, pred = torch.max(output, 1)\n",
        "        class_name = class_names[pred.item()]\n",
        "\n",
        "    # Estrazione del nome del file (senza percorso)\n",
        "    file_name = os.path.basename(img_path)\n",
        "\n",
        "    # Estrazione dell'indice numerico dal nome del file\n",
        "    index = int(file_name.split('.')[0])\n",
        "\n",
        "    # Estrazione dell'estensione dal nome del file\n",
        "    extension = file_name.split('.')[-1]\n",
        "\n",
        "    # Mapping del nome della classe rispeto la sua etichetta numerica\n",
        "    class_label = {'CL': 0, 'BR': 1, 'DA': 2, 'RA': 3, 'SF': 4, 'SH': 5}[class_name]\n",
        "\n",
        "    # Risultato aggiunto alla lista\n",
        "    results.append({'rowID': f'{index}.{extension}', 'Class': class_label})\n",
        "\n",
        "# Risultati ordinati in base alla colonna 'rowID'\n",
        "results.sort(key=lambda x: int(x['rowID'].split('.')[0]))\n",
        "\n",
        "# Risultati inseriti in un file CSV\n",
        "csv_path = '/content/result_' + networkName + '.csv'\n",
        "with open(csv_path, 'w', newline='') as csvfile:\n",
        "    fieldnames = ['rowID', 'Class']\n",
        "    writer = csv.DictWriter(csvfile, fieldnames=fieldnames)\n",
        "\n",
        "    # Intestazione\n",
        "    writer.writeheader()\n",
        "\n",
        "    # Dati\n",
        "    writer.writerows(results)\n",
        "\n",
        "print(f'I risultati sono stati scritti in: {csv_path}')\n",
        "\n",
        "# Download file CSV\n",
        "files.download(csv_path)\n",
        "\n",
        "print(f'Il file csv è stato scaricato')"
      ],
      "metadata": {
        "colab": {
          "base_uri": "https://localhost:8080/",
          "height": 52
        },
        "id": "5m6g4vaZf-0H",
        "outputId": "fb398142-89bb-4422-d6dc-8bda1cfc1fa8"
      },
      "execution_count": null,
      "outputs": [
        {
          "output_type": "stream",
          "name": "stdout",
          "text": [
            "I risultati sono stati scritti in: /content/result_xception.csv\n"
          ]
        },
        {
          "output_type": "display_data",
          "data": {
            "text/plain": [
              "<IPython.core.display.Javascript object>"
            ],
            "application/javascript": [
              "\n",
              "    async function download(id, filename, size) {\n",
              "      if (!google.colab.kernel.accessAllowed) {\n",
              "        return;\n",
              "      }\n",
              "      const div = document.createElement('div');\n",
              "      const label = document.createElement('label');\n",
              "      label.textContent = `Downloading \"${filename}\": `;\n",
              "      div.appendChild(label);\n",
              "      const progress = document.createElement('progress');\n",
              "      progress.max = size;\n",
              "      div.appendChild(progress);\n",
              "      document.body.appendChild(div);\n",
              "\n",
              "      const buffers = [];\n",
              "      let downloaded = 0;\n",
              "\n",
              "      const channel = await google.colab.kernel.comms.open(id);\n",
              "      // Send a message to notify the kernel that we're ready.\n",
              "      channel.send({})\n",
              "\n",
              "      for await (const message of channel.messages) {\n",
              "        // Send a message to notify the kernel that we're ready.\n",
              "        channel.send({})\n",
              "        if (message.buffers) {\n",
              "          for (const buffer of message.buffers) {\n",
              "            buffers.push(buffer);\n",
              "            downloaded += buffer.byteLength;\n",
              "            progress.value = downloaded;\n",
              "          }\n",
              "        }\n",
              "      }\n",
              "      const blob = new Blob(buffers, {type: 'application/binary'});\n",
              "      const a = document.createElement('a');\n",
              "      a.href = window.URL.createObjectURL(blob);\n",
              "      a.download = filename;\n",
              "      div.appendChild(a);\n",
              "      a.click();\n",
              "      div.remove();\n",
              "    }\n",
              "  "
            ]
          },
          "metadata": {}
        },
        {
          "output_type": "display_data",
          "data": {
            "text/plain": [
              "<IPython.core.display.Javascript object>"
            ],
            "application/javascript": [
              "download(\"download_2643e5f5-5aef-4742-9e42-2d7bdea7b88c\", \"result_xception.csv\", 13303)"
            ]
          },
          "metadata": {}
        },
        {
          "output_type": "stream",
          "name": "stdout",
          "text": [
            "Il file csv è stato scaricato\n"
          ]
        }
      ]
    },
    {
      "cell_type": "markdown",
      "source": [
        "*Download dei pesi in un .zip*"
      ],
      "metadata": {
        "id": "ZWHfhoiAj6UV"
      }
    },
    {
      "cell_type": "code",
      "source": [
        "import shutil\n",
        "import os\n",
        "from google.colab import files\n",
        "\n",
        "# Percorso della cartella da zippare\n",
        "folder_to_zip = '/content/pesi/' + networkName\n",
        "\n",
        "# Archivio ZIP della cartella\n",
        "shutil.make_archive(folder_to_zip, 'zip', folder_to_zip)\n",
        "\n",
        "# Download file ZIP\n",
        "zip_path = f'{folder_to_zip}.zip'\n",
        "files.download(zip_path)"
      ],
      "metadata": {
        "id": "mKAr4xiKkVeN",
        "colab": {
          "base_uri": "https://localhost:8080/",
          "height": 17
        },
        "outputId": "57370221-bf6f-4d4f-bcac-bae2a416b642"
      },
      "execution_count": null,
      "outputs": [
        {
          "output_type": "display_data",
          "data": {
            "text/plain": [
              "<IPython.core.display.Javascript object>"
            ],
            "application/javascript": [
              "\n",
              "    async function download(id, filename, size) {\n",
              "      if (!google.colab.kernel.accessAllowed) {\n",
              "        return;\n",
              "      }\n",
              "      const div = document.createElement('div');\n",
              "      const label = document.createElement('label');\n",
              "      label.textContent = `Downloading \"${filename}\": `;\n",
              "      div.appendChild(label);\n",
              "      const progress = document.createElement('progress');\n",
              "      progress.max = size;\n",
              "      div.appendChild(progress);\n",
              "      document.body.appendChild(div);\n",
              "\n",
              "      const buffers = [];\n",
              "      let downloaded = 0;\n",
              "\n",
              "      const channel = await google.colab.kernel.comms.open(id);\n",
              "      // Send a message to notify the kernel that we're ready.\n",
              "      channel.send({})\n",
              "\n",
              "      for await (const message of channel.messages) {\n",
              "        // Send a message to notify the kernel that we're ready.\n",
              "        channel.send({})\n",
              "        if (message.buffers) {\n",
              "          for (const buffer of message.buffers) {\n",
              "            buffers.push(buffer);\n",
              "            downloaded += buffer.byteLength;\n",
              "            progress.value = downloaded;\n",
              "          }\n",
              "        }\n",
              "      }\n",
              "      const blob = new Blob(buffers, {type: 'application/binary'});\n",
              "      const a = document.createElement('a');\n",
              "      a.href = window.URL.createObjectURL(blob);\n",
              "      a.download = filename;\n",
              "      div.appendChild(a);\n",
              "      a.click();\n",
              "      div.remove();\n",
              "    }\n",
              "  "
            ]
          },
          "metadata": {}
        },
        {
          "output_type": "display_data",
          "data": {
            "text/plain": [
              "<IPython.core.display.Javascript object>"
            ],
            "application/javascript": [
              "download(\"download_cfdac3a0-09ed-498c-9763-f34efa14a567\", \"xception.zip\", 155219844)"
            ]
          },
          "metadata": {}
        }
      ]
    }
  ]
}